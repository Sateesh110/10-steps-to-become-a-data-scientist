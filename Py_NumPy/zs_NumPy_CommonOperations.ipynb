{
  "nbformat": 4,
  "nbformat_minor": 0,
  "metadata": {
    "colab": {
      "name": "Untitled8.ipynb",
      "provenance": [],
      "authorship_tag": "ABX9TyPfAesBtqpl2wuke+AFvlpR",
      "include_colab_link": true
    },
    "kernelspec": {
      "name": "python3",
      "display_name": "Python 3"
    }
  },
  "cells": [
    {
      "cell_type": "markdown",
      "metadata": {
        "id": "view-in-github",
        "colab_type": "text"
      },
      "source": [
        "<a href=\"https://colab.research.google.com/github/Sateesh110/10-steps-to-become-a-data-scientist/blob/master/Py_NumPy/zs_NumPy_CommonOperations.ipynb\" target=\"_parent\"><img src=\"https://colab.research.google.com/assets/colab-badge.svg\" alt=\"Open In Colab\"/></a>"
      ]
    },
    {
      "cell_type": "markdown",
      "metadata": {
        "id": "7zLPQIKVZBrQ"
      },
      "source": [
        ""
      ]
    },
    {
      "cell_type": "markdown",
      "metadata": {
        "id": "cH0aJ1YZYXE1"
      },
      "source": [
        "##Credit\r\n",
        "https://www.gormanalysis.com/blog/python-numpy-for-your-grandma-4-1-where/"
      ]
    },
    {
      "cell_type": "markdown",
      "metadata": {
        "id": "-lPejnpjZDuN"
      },
      "source": [
        "##Import Packages "
      ]
    },
    {
      "cell_type": "code",
      "metadata": {
        "id": "sA9Ud118ZHBI"
      },
      "source": [
        "import numpy as np\r\n",
        "import random"
      ],
      "execution_count": 2,
      "outputs": []
    },
    {
      "cell_type": "markdown",
      "metadata": {
        "id": "rpL_vz1YYc38"
      },
      "source": [
        "##Where()"
      ]
    },
    {
      "cell_type": "code",
      "metadata": {
        "id": "6Hd0s-gFYb78"
      },
      "source": [
        ""
      ],
      "execution_count": null,
      "outputs": []
    },
    {
      "cell_type": "markdown",
      "metadata": {
        "id": "LYJWCfGFYhHZ"
      },
      "source": [
        "##Math Functions"
      ]
    },
    {
      "cell_type": "code",
      "metadata": {
        "id": "jQmDLcO5YkTv"
      },
      "source": [
        ""
      ],
      "execution_count": null,
      "outputs": []
    },
    {
      "cell_type": "markdown",
      "metadata": {
        "id": "2Noe65uyYk8X"
      },
      "source": [
        "##all() and any()"
      ]
    },
    {
      "cell_type": "code",
      "metadata": {
        "id": "BpK5xcFEYoBj"
      },
      "source": [
        ""
      ],
      "execution_count": null,
      "outputs": []
    },
    {
      "cell_type": "markdown",
      "metadata": {
        "id": "0oRx9fhCYonD"
      },
      "source": [
        "##concatenate()"
      ]
    },
    {
      "cell_type": "code",
      "metadata": {
        "id": "-JEi2Q7KYrzm"
      },
      "source": [
        ""
      ],
      "execution_count": null,
      "outputs": []
    },
    {
      "cell_type": "markdown",
      "metadata": {
        "id": "bHZDG6zWYsoD"
      },
      "source": [
        "##Stacking"
      ]
    },
    {
      "cell_type": "code",
      "metadata": {
        "id": "PTjoom07YvKM"
      },
      "source": [
        ""
      ],
      "execution_count": null,
      "outputs": []
    },
    {
      "cell_type": "markdown",
      "metadata": {
        "id": "P_9XNnEeYvzH"
      },
      "source": [
        "##Sorting"
      ]
    },
    {
      "cell_type": "code",
      "metadata": {
        "id": "m-svj-32YyC2"
      },
      "source": [
        ""
      ],
      "execution_count": null,
      "outputs": []
    },
    {
      "cell_type": "markdown",
      "metadata": {
        "id": "4Cc5j4XsYyo1"
      },
      "source": [
        "##unique()"
      ]
    },
    {
      "cell_type": "code",
      "metadata": {
        "id": "sB8wij7cY1BX"
      },
      "source": [
        ""
      ],
      "execution_count": null,
      "outputs": []
    },
    {
      "cell_type": "markdown",
      "metadata": {
        "id": "ceH1xUAJY1zU"
      },
      "source": [
        "##Challenge: Movie Ratings"
      ]
    },
    {
      "cell_type": "code",
      "metadata": {
        "id": "42VlcJsPY4Z7"
      },
      "source": [
        ""
      ],
      "execution_count": null,
      "outputs": []
    },
    {
      "cell_type": "markdown",
      "metadata": {
        "id": "w_ZQnvTEY48s"
      },
      "source": [
        "##Challenge: Big Fish"
      ]
    },
    {
      "cell_type": "code",
      "metadata": {
        "id": "QO9AwGgjY7e_"
      },
      "source": [
        ""
      ],
      "execution_count": null,
      "outputs": []
    },
    {
      "cell_type": "markdown",
      "metadata": {
        "id": "iQ9pBTHNY8GH"
      },
      "source": [
        "##Challenge: Taco Truck"
      ]
    },
    {
      "cell_type": "code",
      "metadata": {
        "id": "n_X1YEyQY-xA"
      },
      "source": [
        ""
      ],
      "execution_count": null,
      "outputs": []
    }
  ]
}